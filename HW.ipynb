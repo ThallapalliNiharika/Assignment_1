{
 "cells": [
  {
   "cell_type": "code",
   "execution_count": 2,
   "id": "a9222f8f",
   "metadata": {},
   "outputs": [],
   "source": [
    "s = \"this is My First Python programming class and i am learNING python string and its function\" "
   ]
  },
  {
   "cell_type": "code",
   "execution_count": 3,
   "id": "4580adac",
   "metadata": {},
   "outputs": [
    {
     "data": {
      "text/plain": [
       "'this is My First Python programming class and i am learNING python string and its function'"
      ]
     },
     "execution_count": 3,
     "metadata": {},
     "output_type": "execute_result"
    }
   ],
   "source": [
    "s"
   ]
  },
  {
   "cell_type": "code",
   "execution_count": 4,
   "id": "cae5f37d",
   "metadata": {},
   "outputs": [
    {
     "data": {
      "text/plain": [
       "'h   r tnrrmglsnimeNGyosi dtfco'"
      ]
     },
     "execution_count": 4,
     "metadata": {},
     "output_type": "execute_result"
    }
   ],
   "source": [
    "s[1:300:3]"
   ]
  },
  {
   "cell_type": "code",
   "execution_count": 6,
   "id": "98cf9510",
   "metadata": {},
   "outputs": [
    {
     "data": {
      "text/plain": [
       "'noitcnuf sti dna gnirts nohtyp GNINrael ma i dna ssalc gnimmargorp nohtyP tsriF yM si siht'"
      ]
     },
     "execution_count": 6,
     "metadata": {},
     "output_type": "execute_result"
    }
   ],
   "source": [
    "s[::-1]"
   ]
  },
  {
   "cell_type": "markdown",
   "id": "552db64f",
   "metadata": {},
   "source": [
    "3.Compiler: instructions High-Level Language into LOw-Level Language(Machine Language)"
   ]
  },
  {
   "cell_type": "markdown",
   "id": "fc506eba",
   "metadata": {},
   "source": [
    "4.Interperter:It is a set of intructions / programs that execute step by step."
   ]
  },
  {
   "cell_type": "markdown",
   "id": "87d036d7",
   "metadata": {},
   "source": [
    "# Python is a interputed of compiled langauge "
   ]
  },
  {
   "cell_type": "markdown",
   "id": "a85003d6",
   "metadata": {},
   "source": [
    "Python is a compiled interputed language unlike others languages like C, C++, JAVA etc.Python generally follows the complilation\n",
    "of high-level language to bytecode and then the compiled data is interpreted. Here python follows compiler and interputed."
   ]
  },
  {
   "cell_type": "markdown",
   "id": "24128d74",
   "metadata": {},
   "source": [
    "# Use of python"
   ]
  },
  {
   "cell_type": "code",
   "execution_count": null,
   "id": "e63b73f1",
   "metadata": {},
   "outputs": [],
   "source": [
    "It is an easy and simple language"
   ]
  }
 ],
 "metadata": {
  "kernelspec": {
   "display_name": "Python 3 (ipykernel)",
   "language": "python",
   "name": "python3"
  },
  "language_info": {
   "codemirror_mode": {
    "name": "ipython",
    "version": 3
   },
   "file_extension": ".py",
   "mimetype": "text/x-python",
   "name": "python",
   "nbconvert_exporter": "python",
   "pygments_lexer": "ipython3",
   "version": "3.10.1"
  }
 },
 "nbformat": 4,
 "nbformat_minor": 5
}
